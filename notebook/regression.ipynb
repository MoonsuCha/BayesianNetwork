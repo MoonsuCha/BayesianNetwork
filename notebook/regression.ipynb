{
 "cells": [
  {
   "cell_type": "code",
   "execution_count": 1,
   "metadata": {
    "collapsed": false
   },
   "outputs": [],
   "source": [
    "%matplotlib inline\n",
    "import matplotlib.pyplot as plt\n",
    "import numpy as np\n",
    "import bayesnet as bn\n",
    "\n",
    "np.random.seed(1234)"
   ]
  },
  {
   "cell_type": "code",
   "execution_count": 2,
   "metadata": {
    "collapsed": true
   },
   "outputs": [],
   "source": [
    "def create_toy_data(n=10):\n",
    "    x = np.linspace(0, 1, n)[:, None]\n",
    "    return x, np.sin(2 * np.pi * x) + np.random.normal(scale=0.25, size=(10, 1))\n",
    "x_train, y_train = create_toy_data()"
   ]
  },
  {
   "cell_type": "code",
   "execution_count": 3,
   "metadata": {
    "collapsed": true
   },
   "outputs": [],
   "source": [
    "class NeuralNetwork(bn.Network):\n",
    "    \n",
    "    def __init__(self, n_input, n_hidden, n_output):\n",
    "        super().__init__(\n",
    "            w1=np.random.randn(n_input, n_hidden),\n",
    "            b1=np.zeros(n_hidden),\n",
    "            w2=np.random.randn(n_hidden, n_output),\n",
    "            b2=np.zeros(n_output)\n",
    "        )\n",
    "\n",
    "    def __call__(self, x, y=None):\n",
    "        h = bn.tanh(x @ self.w1 + self.b1)\n",
    "        mu = h @ self.w2 + self.b2\n",
    "        self.y = bn.random.Gaussian(mu, 1., data=y)\n",
    "        return mu"
   ]
  },
  {
   "cell_type": "code",
   "execution_count": 4,
   "metadata": {
    "collapsed": true
   },
   "outputs": [],
   "source": [
    "model = NeuralNetwork(1, 30, 1)\n",
    "optimizer = bn.optimizer.Adam(model)\n",
    "\n",
    "for _ in range(100000):\n",
    "    model.cleargrad()\n",
    "    model(x_train, y_train)\n",
    "    loss = -model.elbo()\n",
    "    loss.backward()\n",
    "    optimizer.update()"
   ]
  },
  {
   "cell_type": "code",
   "execution_count": 5,
   "metadata": {
    "collapsed": false
   },
   "outputs": [
    {
     "data": {
      "image/png": "[encoded data removed]",
      "text/plain": [
       "<matplotlib.figure.Figure at 0x10ffee630>"
      ]
     },
     "metadata": {},
     "output_type": "display_data"
    }
   ],
   "source": [
    "x = np.linspace(0, 1, 100)[:, None]\n",
    "plt.scatter(x_train, y_train)\n",
    "plt.plot(x, model(x).value, c=\"r\")\n",
    "plt.show()"
   ]
  },
  {
   "cell_type": "code",
   "execution_count": 6,
   "metadata": {
    "collapsed": true
   },
   "outputs": [],
   "source": [
    "class RegularizedNetwork(bn.Network):\n",
    "    \n",
    "    def __init__(self, n_input, n_hidden, n_output):\n",
    "        super().__init__(\n",
    "            w1=np.random.randn(n_input, n_hidden),\n",
    "            b1=np.zeros(n_hidden),\n",
    "            w2=np.random.randn(n_hidden, n_output),\n",
    "            b2=np.zeros(n_output)\n",
    "        )\n",
    "\n",
    "    def __call__(self, x, y=None):\n",
    "        self.w1_prior = bn.random.Gaussian(np.zeros(self.w1.shape), 1, data=self.w1)\n",
    "        self.b1_prior = bn.random.Gaussian(np.zeros(self.b1.shape), 1, data=self.b1)\n",
    "        self.w2_prior = bn.random.Gaussian(np.zeros(self.w2.shape), 1, data=self.w2)\n",
    "        self.b2_prior = bn.random.Gaussian(np.zeros(self.b2.shape), 1, data=self.b2)\n",
    "        h = bn.tanh(x @ self.w1 + self.b1)\n",
    "        mu = h @ self.w2 + self.b2\n",
    "        self.y = bn.random.Gaussian(mu, 0.1, data=y)\n",
    "        return mu"
   ]
  },
  {
   "cell_type": "code",
   "execution_count": 7,
   "metadata": {
    "collapsed": false
   },
   "outputs": [],
   "source": [
    "model = RegularizedNetwork(1, 30, 1)\n",
    "optimizer = bn.optimizer.Adam(model)\n",
    "\n",
    "for _ in range(100000):\n",
    "    model.cleargrad()\n",
    "    model(x_train, y_train)\n",
    "    loss = -model.log_posterior()\n",
    "    loss.backward()\n",
    "    optimizer.update()"
   ]
  },
  {
   "cell_type": "code",
   "execution_count": 8,
   "metadata": {
    "collapsed": false
   },
   "outputs": [
    {
     "data": {
      "image/png": "[encoded data removed]",
      "text/plain": [
       "<matplotlib.figure.Figure at 0x1101e1b00>"
      ]
     },
     "metadata": {},
     "output_type": "display_data"
    }
   ],
   "source": [
    "x = np.linspace(0, 1, 100)[:, None]\n",
    "plt.scatter(x_train, y_train)\n",
    "plt.plot(x, model(x).value, c=\"r\")\n",
    "plt.show()"
   ]
  },
  {
   "cell_type": "code",
   "execution_count": 9,
   "metadata": {
    "collapsed": true
   },
   "outputs": [],
   "source": [
    "class BayesianNetwork(bn.Network):\n",
    "    \n",
    "    def __init__(self, n_input, n_hidden, n_output):\n",
    "        super().__init__(\n",
    "            w1_mu=np.zeros((n_input, n_hidden)),\n",
    "            w1_logs=np.zeros((n_input, n_hidden)),\n",
    "            b1_mu=np.zeros(n_hidden),\n",
    "            b1_logs=np.zeros(n_hidden),\n",
    "            w2_mu=np.zeros((n_hidden, n_output)),\n",
    "            w2_logs=np.zeros((n_hidden, n_output)),\n",
    "            b2_mu=np.zeros(n_output),\n",
    "            b2_logs=np.zeros(n_output)\n",
    "        )\n",
    "\n",
    "    def __call__(self, x, y=None):\n",
    "        self.w1 = bn.random.Gaussian(\n",
    "            self.w1_mu, bn.exp(self.w1_logs),\n",
    "            prior=bn.random.Gaussian(np.zeros(self.w1_mu.shape), np.ones(self.w1_mu.shape))\n",
    "        )\n",
    "        self.b1 = bn.random.Gaussian(\n",
    "            self.b1_mu, bn.exp(self.b1_logs),\n",
    "            prior=bn.random.Gaussian(np.zeros(self.b1_mu.shape), np.ones(self.b1_mu.shape))\n",
    "        )\n",
    "        self.w2 = bn.random.Gaussian(\n",
    "            self.w2_mu, bn.exp(self.w2_logs),\n",
    "            prior=bn.random.Gaussian(np.zeros(self.w2_mu.shape), np.ones(self.w2_mu.shape))\n",
    "        )\n",
    "        self.b2 = bn.random.Gaussian(\n",
    "            self.b2_mu, bn.exp(self.b2_logs),\n",
    "            prior=bn.random.Gaussian(np.zeros(self.b2_mu.shape), np.ones(self.b2_mu.shape))\n",
    "        )\n",
    "        h = bn.tanh(x @ self.w1.draw() + self.b1.draw())\n",
    "        mu = h @ self.w2.draw() + self.b2.draw()\n",
    "        self.y = bn.random.Gaussian(mu, 0.1, data=y)\n",
    "        return mu"
   ]
  },
  {
   "cell_type": "code",
   "execution_count": 12,
   "metadata": {
    "collapsed": true
   },
   "outputs": [],
   "source": [
    "model = BayesianNetwork(1, 30, 1)\n",
    "optimizer = bn.optimizer.Adam(model)\n",
    "cost = []\n",
    "for _ in range(100000):\n",
    "    model.cleargrad()\n",
    "    loss = 0\n",
    "    for _ in range(3):\n",
    "        model(x_train, y_train)\n",
    "        loss -= model.elbo() / 3\n",
    "    loss.backward()\n",
    "    optimizer.update()\n",
    "    cost.append(loss.value)"
   ]
  },
  {
   "cell_type": "code",
   "execution_count": 15,
   "metadata": {
    "collapsed": false
   },
   "outputs": [
    {
     "data": {
      "image/png": "[encoded data removed]",
      "text/plain": [
       "<matplotlib.figure.Figure at 0x1108283c8>"
      ]
     },
     "metadata": {},
     "output_type": "display_data"
    }
   ],
   "source": [
    "x = np.linspace(0, 1, 100)[:, None]\n",
    "plt.scatter(x_train, y_train)\n",
    "for _ in range(10):\n",
    "    plt.plot(x, model(x).value, c=\"r\")\n",
    "plt.show()"
   ]
  },
  {
   "cell_type": "code",
   "execution_count": null,
   "metadata": {
    "collapsed": true
   },
   "outputs": [],
   "source": []
  }
 ],
 "metadata": {
  "kernelspec": {
   "display_name": "Python 3",
   "language": "python",
   "name": "python3"
  },
  "language_info": {
   "codemirror_mode": {
    "name": "ipython",
    "version": 3
   },
   "file_extension": ".py",
   "mimetype": "text/x-python",
   "name": "python",
   "nbconvert_exporter": "python",
   "pygments_lexer": "ipython3",
   "version": "3.6.0"
  }
 },
 "nbformat": 4,
 "nbformat_minor": 2
}
